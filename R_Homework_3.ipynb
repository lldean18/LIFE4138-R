{
 "cells": [
  {
   "cell_type": "markdown",
   "id": "6b61bfa1",
   "metadata": {},
   "source": [
    "## Introduction\n",
    "\n",
    "In this notebook, you’ll find a series of practical R problems for you to attempt as homework. Have a go before the next session and we will go through the answers as a group during the next class. I will release the answers after the next session.\n",
    "\n",
    "You should write your answers in the code blocks beneath the questions below. You will need to run the code blocks that are provided for you as you go to load / create the objects you will need into your environment."
   ]
  },
  {
   "cell_type": "markdown",
   "id": "2f013cc5",
   "metadata": {},
   "source": [
    "## Homework for session 3\n",
    "\n",
    "Begin by running the code block below to load what you will need into your environment."
   ]
  },
  {
   "cell_type": "code",
   "execution_count": null,
   "id": "5eea4b31",
   "metadata": {},
   "outputs": [],
   "source": [
    "library(tidyverse)\n",
    "data(iris)\n",
    "# you should see an output about attaching packages and a few conflicts"
   ]
  },
  {
   "cell_type": "markdown",
   "id": "0d3b29e2",
   "metadata": {},
   "source": [
    "### 1. For loops"
   ]
  },
  {
   "cell_type": "markdown",
   "id": "3d20f7f5",
   "metadata": {},
   "source": [
    "1. Write a for loop to add 50 to every value in the Sepal.Length column in the iris dataset and print the output to the screen. "
   ]
  },
  {
   "cell_type": "code",
   "execution_count": null,
   "id": "ba69e9ad",
   "metadata": {},
   "outputs": [],
   "source": []
  },
  {
   "cell_type": "markdown",
   "id": "d404073a",
   "metadata": {},
   "source": [
    "2. Create a new column in the iris dataframe called Sepal.Size. Write a for loop to multiply Sepal.Length and Sepal.Width and assign the output to the new Sepal.Size column."
   ]
  },
  {
   "cell_type": "code",
   "execution_count": null,
   "id": "bb3d1b22",
   "metadata": {},
   "outputs": [],
   "source": []
  },
  {
   "cell_type": "markdown",
   "id": "dd2ef785",
   "metadata": {},
   "source": [
    "### 2. Conditional statements"
   ]
  },
  {
   "cell_type": "markdown",
   "id": "97853d7f",
   "metadata": {},
   "source": [
    "1. Write an `if()` statement to check whether a number is positive."
   ]
  },
  {
   "cell_type": "code",
   "execution_count": null,
   "id": "a63c1c57",
   "metadata": {},
   "outputs": [],
   "source": []
  },
  {
   "cell_type": "markdown",
   "id": "d01ef10c",
   "metadata": {},
   "source": [
    "2. Using the `if()` and `else()` functions check whether a value is greater than 10."
   ]
  },
  {
   "cell_type": "code",
   "execution_count": null,
   "id": "b17e7a9b",
   "metadata": {},
   "outputs": [],
   "source": []
  },
  {
   "cell_type": "markdown",
   "id": "c7db71ce",
   "metadata": {},
   "source": [
    "3. Use the ```ifelse()``` function to answer the same question as 2. above."
   ]
  },
  {
   "cell_type": "code",
   "execution_count": null,
   "id": "912d5d3e",
   "metadata": {},
   "outputs": [],
   "source": []
  },
  {
   "cell_type": "markdown",
   "id": "853ea6cc",
   "metadata": {},
   "source": [
    "4. Use the `ifelse()` function to create a new variable in the iris data frame called Petal.Size. The new variable should be a character where Petal.Size is 'large' when Petal.Width is above 0.9 and 'small' when Petal.Width is 0.9 or below."
   ]
  },
  {
   "cell_type": "code",
   "execution_count": null,
   "id": "54a4ba2e",
   "metadata": {},
   "outputs": [],
   "source": []
  },
  {
   "cell_type": "markdown",
   "id": "e7b3ee30",
   "metadata": {},
   "source": [
    "### 3. Functions"
   ]
  },
  {
   "cell_type": "markdown",
   "id": "a4e962a0",
   "metadata": {},
   "source": [
    "1. Write a function to take two numbers as input arguments and output their sum."
   ]
  },
  {
   "cell_type": "code",
   "execution_count": null,
   "id": "4ef56b8b",
   "metadata": {},
   "outputs": [],
   "source": []
  },
  {
   "cell_type": "markdown",
   "id": "1e496af2",
   "metadata": {},
   "source": [
    "2. Write a function to multiply two numbers together, with a default argument of 10 for the second number."
   ]
  },
  {
   "cell_type": "code",
   "execution_count": null,
   "id": "43334d3c",
   "metadata": {},
   "outputs": [],
   "source": []
  },
  {
   "cell_type": "markdown",
   "id": "d30dea68",
   "metadata": {},
   "source": [
    "3. Write a function to test whether a number is greater than 100."
   ]
  },
  {
   "cell_type": "code",
   "execution_count": null,
   "id": "155ad0d8",
   "metadata": {},
   "outputs": [],
   "source": []
  },
  {
   "cell_type": "markdown",
   "id": "0789b220",
   "metadata": {},
   "source": [
    "4. Write a function to convert a temperature from celsius to farenheight. NOTE: you can use google to find out what the maths of this conversion is!"
   ]
  },
  {
   "cell_type": "code",
   "execution_count": null,
   "id": "af7baf21",
   "metadata": {},
   "outputs": [],
   "source": []
  },
  {
   "cell_type": "markdown",
   "id": "5c46c08f",
   "metadata": {},
   "source": [
    "### 4. Lists"
   ]
  },
  {
   "cell_type": "markdown",
   "id": "1edc6210",
   "metadata": {},
   "source": [
    "1. Create a list named game_list that contains three named elements:\n",
    "\n",
    "      A vector of character names: \"Zelda\", \"Link\", \"Ganon\"\n",
    "\n",
    "      A vector of numbers from 1 to 10\n",
    "\n",
    "      A logical vector: TRUE, TRUE, FALSE"
   ]
  },
  {
   "cell_type": "code",
   "execution_count": null,
   "id": "7f7dd14b",
   "metadata": {
    "scrolled": true
   },
   "outputs": [],
   "source": []
  },
  {
   "cell_type": "markdown",
   "id": "1a0cc8b5",
   "metadata": {},
   "source": [
    "2. Using square brackets, access the second element in the list game_list, and store it in a variable named second_element."
   ]
  },
  {
   "cell_type": "code",
   "execution_count": null,
   "id": "8eaad2d0",
   "metadata": {},
   "outputs": [],
   "source": []
  },
  {
   "cell_type": "markdown",
   "id": "b7749011",
   "metadata": {},
   "source": [
    "3. From the game_list, extract the second character in the characters vector."
   ]
  },
  {
   "cell_type": "code",
   "execution_count": null,
   "id": "74dd94f8",
   "metadata": {},
   "outputs": [],
   "source": []
  },
  {
   "cell_type": "markdown",
   "id": "979ec49b",
   "metadata": {},
   "source": [
    "4. Check the class of the numbers element in the game_list."
   ]
  },
  {
   "cell_type": "code",
   "execution_count": null,
   "id": "0eb2bc3f",
   "metadata": {},
   "outputs": [],
   "source": []
  },
  {
   "cell_type": "markdown",
   "id": "40eda409",
   "metadata": {},
   "source": [
    "5. Modify the game_list to include a new element named 'scores', which is a vector of the numbers 50, 60, and 70."
   ]
  },
  {
   "cell_type": "code",
   "execution_count": null,
   "id": "b28c1b4d",
   "metadata": {},
   "outputs": [],
   "source": []
  },
  {
   "cell_type": "markdown",
   "id": "755932b7",
   "metadata": {},
   "source": [
    "### 5. Apply functions\n",
    "\n",
    "Run the code provided to you in the box below to load the Orange data set into your environment. We will use this dataset for the questions below."
   ]
  },
  {
   "cell_type": "code",
   "execution_count": null,
   "id": "bade933f",
   "metadata": {},
   "outputs": [],
   "source": [
    "data(Orange)\n",
    "Orange <- lapply(Orange, as.numeric)\n",
    "Orange <- as.data.frame(Orange)"
   ]
  },
  {
   "cell_type": "markdown",
   "id": "2c49a48d",
   "metadata": {},
   "source": [
    "1. Using the `apply()` function, calculate the max of each column in the Orange dataset, excluding NA values."
   ]
  },
  {
   "cell_type": "code",
   "execution_count": null,
   "id": "1928dc89",
   "metadata": {},
   "outputs": [],
   "source": []
  },
  {
   "cell_type": "markdown",
   "id": "ef8d5f37",
   "metadata": {},
   "source": [
    "2. Write an `apply()` function to calculate the sum of each row in the Orange dataset, excluding NA values."
   ]
  },
  {
   "cell_type": "code",
   "execution_count": null,
   "id": "6288779a",
   "metadata": {},
   "outputs": [],
   "source": []
  },
  {
   "cell_type": "markdown",
   "id": "2f27cde8",
   "metadata": {},
   "source": [
    "3. Use `apply()` to square each value in the Orange dataset."
   ]
  },
  {
   "cell_type": "code",
   "execution_count": null,
   "id": "8d01db51",
   "metadata": {},
   "outputs": [],
   "source": []
  },
  {
   "cell_type": "markdown",
   "id": "cbfd1089",
   "metadata": {},
   "source": [
    "4. Write a custom function that takes a vector and returns the minimum and maximum values. Then use `apply()` to apply this function to each column in the Orange dataset."
   ]
  },
  {
   "cell_type": "code",
   "execution_count": null,
   "id": "dec928b5",
   "metadata": {},
   "outputs": [],
   "source": []
  },
  {
   "cell_type": "markdown",
   "id": "85b52bb9",
   "metadata": {},
   "source": [
    "5. Use `lapply()` to calculate the length of each element in the list you created earlier called game_list."
   ]
  },
  {
   "cell_type": "code",
   "execution_count": null,
   "id": "4eb2822d",
   "metadata": {},
   "outputs": [],
   "source": []
  },
  {
   "cell_type": "markdown",
   "id": "bb4f366f",
   "metadata": {},
   "source": [
    "6. Using `lapply()`, calculate the mean of each column in the Orange dataset, excluding NA values."
   ]
  },
  {
   "cell_type": "code",
   "execution_count": null,
   "id": "02186a46",
   "metadata": {},
   "outputs": [],
   "source": []
  },
  {
   "cell_type": "markdown",
   "id": "3751c034",
   "metadata": {},
   "source": [
    "7. Use `sapply()` to calculate the length of each element in the list game_list. Make sure the result is a vector, not a list."
   ]
  },
  {
   "cell_type": "code",
   "execution_count": null,
   "id": "076de6e3",
   "metadata": {},
   "outputs": [],
   "source": []
  },
  {
   "cell_type": "markdown",
   "id": "d78ef890",
   "metadata": {},
   "source": [
    "8. Now repeat question 7 above, but return the result as a list."
   ]
  },
  {
   "cell_type": "code",
   "execution_count": null,
   "id": "7c7e2782",
   "metadata": {},
   "outputs": [],
   "source": []
  },
  {
   "cell_type": "markdown",
   "id": "7c7a273c",
   "metadata": {},
   "source": [
    "9. Use `apply()` and an anonymous function (defined only inside the apply function) to count the number of missing values (NA) in each column of the Orange dataset."
   ]
  },
  {
   "cell_type": "code",
   "execution_count": null,
   "id": "6d66a435",
   "metadata": {},
   "outputs": [],
   "source": []
  }
 ],
 "metadata": {
  "kernelspec": {
   "display_name": "R",
   "language": "R",
   "name": "ir"
  },
  "language_info": {
   "codemirror_mode": "r",
   "file_extension": ".r",
   "mimetype": "text/x-r-source",
   "name": "R",
   "pygments_lexer": "r",
   "version": "4.2.3"
  }
 },
 "nbformat": 4,
 "nbformat_minor": 5
}
