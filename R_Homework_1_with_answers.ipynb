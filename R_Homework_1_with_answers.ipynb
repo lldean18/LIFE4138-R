{
 "cells": [
  {
   "cell_type": "markdown",
   "id": "24deb8f6",
   "metadata": {},
   "source": [
    "## Introduction\n",
    "\n",
    "In this notebook, you’ll find a series of practical R problems for you to attempt as homework. Have a go before the next session and we will go through the answers as a group during the next class. I will release the answers after the next session.\n",
    "\n",
    "You should write your answers in the code blocks beneath the questions below. You will need to run the code blocks that are provided for you as you go to load / create the objects you will need into your environment.\n",
    "\n",
    "## Homework for session 1\n",
    "\n",
    "### 1: assigning objects\n",
    "\n",
    "Using population figures from the [mid-2020 UK Census compiled here](https://en.wikipedia.org/wiki/Demographics_of_the_United_Kingdom#Population)..."
   ]
  },
  {
   "cell_type": "markdown",
   "id": "c053a754",
   "metadata": {},
   "source": [
    "1. Create four objects, one for each of the four countries of the UK and assign the correct population figure to each country"
   ]
  },
  {
   "cell_type": "code",
   "execution_count": null,
   "id": "c3bb5d42",
   "metadata": {},
   "outputs": [],
   "source": [
    "England <- 56550138\n",
    "Ireland <- 1895510\n",
    "Scotland <- 5466000\n",
    "Wales <- 3169586"
   ]
  },
  {
   "cell_type": "markdown",
   "id": "44528be7",
   "metadata": {},
   "source": [
    "2. Use the countries objects to calculate the total population of the UK. Assign this output to a new variable called totalUKpop"
   ]
  },
  {
   "cell_type": "code",
   "execution_count": null,
   "id": "2b736d69",
   "metadata": {},
   "outputs": [],
   "source": [
    "England + Ireland + Scotland + Wales\n",
    "# OR\n",
    "sum(England, Ireland, Scotland, Wales)\n",
    "totalUKpop <- England + Ireland + Scotland + Wales"
   ]
  },
  {
   "cell_type": "markdown",
   "id": "5171dbf5",
   "metadata": {},
   "source": [
    "3. Using the countries objects and UK population total, calculate the proportion of the total population that each country represents"
   ]
  },
  {
   "cell_type": "code",
   "execution_count": null,
   "id": "43dc9e15",
   "metadata": {},
   "outputs": [],
   "source": [
    "(England/totalUKpop)*100 # England\n",
    "(Ireland/totalUKpop)*100 # Ireland\n",
    "(Scotland/totalUKpop)*100 # Scotland\n",
    "(Wales/totalUKpop)*100 # Wales"
   ]
  },
  {
   "cell_type": "markdown",
   "id": "b50fcb37",
   "metadata": {},
   "source": [
    "### 2: Working with numeric vectors"
   ]
  },
  {
   "cell_type": "markdown",
   "id": "559f50a3",
   "metadata": {},
   "source": [
    "1. Using the ```seq()``` function, create a numeric vector of 1 to 10,000 and call it numbers"
   ]
  },
  {
   "cell_type": "code",
   "execution_count": null,
   "id": "9a8478f2",
   "metadata": {},
   "outputs": [],
   "source": [
    "numbers <- seq(1,10000, by = 1)"
   ]
  },
  {
   "cell_type": "markdown",
   "id": "0434c626",
   "metadata": {},
   "source": [
    "2. Print the 20th number from the vector you created"
   ]
  },
  {
   "cell_type": "code",
   "execution_count": null,
   "id": "f90905f5",
   "metadata": {},
   "outputs": [],
   "source": [
    "numbers[20]"
   ]
  },
  {
   "cell_type": "markdown",
   "id": "660a7596",
   "metadata": {},
   "source": [
    "3. Print the 50th to the 70th numbers from the vector you created"
   ]
  },
  {
   "cell_type": "code",
   "execution_count": null,
   "id": "3eba6a76",
   "metadata": {},
   "outputs": [],
   "source": [
    "numbers[50:70]"
   ]
  },
  {
   "cell_type": "markdown",
   "id": "f2d21aef",
   "metadata": {},
   "source": [
    "### 3: working with string vectors\n",
    "\n",
    "Theodosius Dobzhansky famously said \"Nothing in biology makes sense except in the light of evolution\"."
   ]
  },
  {
   "cell_type": "code",
   "execution_count": null,
   "id": "4bbe103a",
   "metadata": {},
   "outputs": [],
   "source": [
    "# Create a string vector of words from this quote\n",
    "quote1 <- c(\"Nothing\", \"biology\", \"in\", \"makes\", \"sense\")\n",
    "quote2 <- c(\"evolution\", \"in\", \"the\", \"light\", \"of\", \"except\")"
   ]
  },
  {
   "cell_type": "markdown",
   "id": "b9afbfb7",
   "metadata": {},
   "source": [
    "1. Rearrange the words in your vectors so that the quote matches the original when you print them one after the other"
   ]
  },
  {
   "cell_type": "code",
   "execution_count": null,
   "id": "e34da7c3",
   "metadata": {},
   "outputs": [],
   "source": [
    "quote1 <- quote1[c(1,3,2,4,5)]\n",
    "quote1\n",
    "quote2 <- quote2[c(6,2,3,4,5,1)]\n",
    "quote2"
   ]
  },
  {
   "cell_type": "markdown",
   "id": "9c3610f7",
   "metadata": {},
   "source": [
    "2. Use the ```paste()``` function to create a new object that pastes the two parts of the quote in the correct order into a single string vector"
   ]
  },
  {
   "cell_type": "code",
   "execution_count": null,
   "id": "e29f66de",
   "metadata": {},
   "outputs": [],
   "source": [
    "quote <- paste(quote1, quote2)\n",
    "quote"
   ]
  },
  {
   "cell_type": "markdown",
   "id": "ded4914b",
   "metadata": {},
   "source": [
    "### 4: Working with data frames"
   ]
  },
  {
   "cell_type": "code",
   "execution_count": null,
   "id": "4734ec41",
   "metadata": {},
   "outputs": [],
   "source": [
    "# Load the iris dataframe into your environment\n",
    "data(iris)"
   ]
  },
  {
   "cell_type": "markdown",
   "id": "878d1f38",
   "metadata": {},
   "source": [
    "1. Display the top rows of the iris dataframe using the ```head()``` function"
   ]
  },
  {
   "cell_type": "code",
   "execution_count": null,
   "id": "234e1406",
   "metadata": {},
   "outputs": [],
   "source": [
    "head(iris)"
   ]
  },
  {
   "cell_type": "markdown",
   "id": "c408e73a",
   "metadata": {},
   "source": [
    "2. Calculate the means of petal length, petal width, sepal length and sepal width across the whole iris dataset using the ```mean()``` function"
   ]
  },
  {
   "cell_type": "code",
   "execution_count": null,
   "id": "913357f8",
   "metadata": {},
   "outputs": [],
   "source": [
    "mean(iris$Petal.Length)\n",
    "mean(iris$Petal.Width)\n",
    "mean(iris$Sepal.Length)\n",
    "mean(iris$Sepal.Width)"
   ]
  },
  {
   "cell_type": "markdown",
   "id": "e8feba28",
   "metadata": {},
   "source": [
    "3. How many different species are there in the iris dataset?"
   ]
  },
  {
   "cell_type": "code",
   "execution_count": null,
   "id": "2dae8571",
   "metadata": {},
   "outputs": [],
   "source": [
    "unique(iris$Species)\n",
    "# OR\n",
    "levels(iris$Species)"
   ]
  },
  {
   "cell_type": "markdown",
   "id": "f9012131",
   "metadata": {},
   "source": [
    "3. Add a column to the iris dataframe called Approx.Sepal.Area that multiplies sepal length by sepal width. Look at the top of the dataframe with ```head()``` to check the output"
   ]
  },
  {
   "cell_type": "code",
   "execution_count": null,
   "id": "7f1ab4a0",
   "metadata": {},
   "outputs": [],
   "source": [
    "iris$Approx.Sepal.Area <- iris$Sepal.Length * iris$Sepal.Width\n",
    "head(iris)"
   ]
  },
  {
   "cell_type": "markdown",
   "id": "ad5bec04",
   "metadata": {},
   "source": [
    "4. Make a new dataframe that contains only data for the setosa iris species using the ```subset()``` function. Use ```View()``` to check you have subsetted correctly."
   ]
  },
  {
   "cell_type": "code",
   "execution_count": null,
   "id": "2b2b0cc5",
   "metadata": {},
   "outputs": [],
   "source": [
    "new_iris <- subset(iris, Species == \"setosa\")\n",
    "View(new_iris)"
   ]
  },
  {
   "cell_type": "markdown",
   "id": "83fe12e7",
   "metadata": {},
   "source": [
    "### 5: Plotting with base R\n",
    "\n",
    "Using the iris dataset that you already have loaded:"
   ]
  },
  {
   "cell_type": "markdown",
   "id": "e038b031",
   "metadata": {},
   "source": [
    "1. Make a boxplot showing the differences in Petal length between species and then Petal width"
   ]
  },
  {
   "cell_type": "code",
   "execution_count": null,
   "id": "0e6d5d98",
   "metadata": {},
   "outputs": [],
   "source": [
    "boxplot(Petal.Length ~ Species, data = iris)\n",
    "boxplot(Petal.Width ~ Species, data = iris)"
   ]
  },
  {
   "cell_type": "markdown",
   "id": "cad2900f",
   "metadata": {},
   "source": [
    "2. Make a scatter plot of petal length against petal width"
   ]
  },
  {
   "cell_type": "code",
   "execution_count": null,
   "id": "7b498be0",
   "metadata": {},
   "outputs": [],
   "source": [
    "plot(iris$Petal.Length, iris$Petal.Width)"
   ]
  },
  {
   "cell_type": "markdown",
   "id": "5b79c9e7",
   "metadata": {},
   "source": [
    "3. Make a histogram of sepal length and then one of sepal width"
   ]
  },
  {
   "cell_type": "code",
   "execution_count": null,
   "id": "f8019d64",
   "metadata": {},
   "outputs": [],
   "source": [
    "hist(iris$Sepal.Length)\n",
    "hist(iris$Sepal.Width)"
   ]
  }
 ],
 "metadata": {
  "kernelspec": {
   "display_name": "R",
   "language": "R",
   "name": "ir"
  },
  "language_info": {
   "codemirror_mode": "r",
   "file_extension": ".r",
   "mimetype": "text/x-r-source",
   "name": "R",
   "pygments_lexer": "r",
   "version": "4.2.3"
  }
 },
 "nbformat": 4,
 "nbformat_minor": 5
}
