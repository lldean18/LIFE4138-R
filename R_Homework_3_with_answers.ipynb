{
 "cells": [
  {
   "cell_type": "markdown",
   "id": "6b61bfa1",
   "metadata": {},
   "source": [
    "## Introduction\n",
    "\n",
    "In this notebook, you’ll find a series of practical R problems for you to attempt as homework. Have a go before the next session and we will go through the answers as a group during the next class. I will release the answers after the next session.\n",
    "\n",
    "You should write your answers in the code blocks beneath the questions below. You will need to run the code blocks that are provided for you as you go to load / create the objects you will need into your environment."
   ]
  },
  {
   "cell_type": "markdown",
   "id": "2f013cc5",
   "metadata": {},
   "source": [
    "## Homework for session 3\n",
    "\n",
    "Begin by running the code block below to load what you will need into your environment."
   ]
  },
  {
   "cell_type": "code",
   "execution_count": 1,
   "id": "5eea4b31",
   "metadata": {},
   "outputs": [
    {
     "name": "stderr",
     "output_type": "stream",
     "text": [
      "── \u001b[1mAttaching packages\u001b[22m ────────────────────────────────────────────────────────────────────────────────────────── tidyverse 1.3.2 ──\n",
      "\u001b[32m✔\u001b[39m \u001b[34mggplot2\u001b[39m 3.5.1     \u001b[32m✔\u001b[39m \u001b[34mpurrr  \u001b[39m 1.0.2\n",
      "\u001b[32m✔\u001b[39m \u001b[34mtibble \u001b[39m 3.2.1     \u001b[32m✔\u001b[39m \u001b[34mdplyr  \u001b[39m 1.1.4\n",
      "\u001b[32m✔\u001b[39m \u001b[34mtidyr  \u001b[39m 1.3.1     \u001b[32m✔\u001b[39m \u001b[34mstringr\u001b[39m 1.5.1\n",
      "\u001b[32m✔\u001b[39m \u001b[34mreadr  \u001b[39m 2.1.5     \u001b[32m✔\u001b[39m \u001b[34mforcats\u001b[39m 1.0.0\n",
      "── \u001b[1mConflicts\u001b[22m ───────────────────────────────────────────────────────────────────────────────────────────── tidyverse_conflicts() ──\n",
      "\u001b[31m✖\u001b[39m \u001b[34mdplyr\u001b[39m::\u001b[32mfilter()\u001b[39m masks \u001b[34mstats\u001b[39m::filter()\n",
      "\u001b[31m✖\u001b[39m \u001b[34mdplyr\u001b[39m::\u001b[32mlag()\u001b[39m    masks \u001b[34mstats\u001b[39m::lag()\n"
     ]
    }
   ],
   "source": [
    "library(tidyverse)\n",
    "data(iris)\n",
    "# you should see an output about attaching packages and a few conflicts"
   ]
  },
  {
   "cell_type": "markdown",
   "id": "0d3b29e2",
   "metadata": {},
   "source": [
    "### 1. For loops"
   ]
  },
  {
   "cell_type": "markdown",
   "id": "3d20f7f5",
   "metadata": {},
   "source": [
    "1. Write a for loop to add 50 to every value in the Sepal.Length column in the iris dataset and print the output to the screen. "
   ]
  },
  {
   "cell_type": "code",
   "execution_count": null,
   "id": "ba69e9ad",
   "metadata": {},
   "outputs": [],
   "source": [
    "for (val in iris$Sepal.Length){\n",
    "    print(val + 50)\n",
    "}"
   ]
  },
  {
   "cell_type": "markdown",
   "id": "d404073a",
   "metadata": {},
   "source": [
    "2. Create a new column in the iris dataframe called Sepal.Size. Write a for loop to multiply Sepal.Length and Sepal.Width and assign the output to the new Sepal.Size column."
   ]
  },
  {
   "cell_type": "code",
   "execution_count": null,
   "id": "bb3d1b22",
   "metadata": {},
   "outputs": [],
   "source": [
    "# create the new empty column\n",
    "iris$Sepal.Size <- NA\n",
    "\n",
    "# loop over rows in the data frame and add to the new column\n",
    "for (i in 1:nrow(iris)){\n",
    "    iris$Sepal.Size[i] <- iris$Sepal.Length[i] * iris$Sepal.Width[i]\n",
    "}\n",
    "\n",
    "# check our new column looks right\n",
    "head(iris)\n"
   ]
  },
  {
   "cell_type": "markdown",
   "id": "dd2ef785",
   "metadata": {},
   "source": [
    "### 2. Conditional statements"
   ]
  },
  {
   "cell_type": "markdown",
   "id": "97853d7f",
   "metadata": {},
   "source": [
    "1. Write an `if()` statement to check whether a number is positive."
   ]
  },
  {
   "cell_type": "code",
   "execution_count": null,
   "id": "a63c1c57",
   "metadata": {},
   "outputs": [],
   "source": [
    "# assign a value to y to test our function\n",
    "x <- 5\n",
    "x <- -10\n",
    "\n",
    "# write the if statement\n",
    "if (x > 0) {\n",
    "  print(\"x is positive\")\n",
    "}"
   ]
  },
  {
   "cell_type": "markdown",
   "id": "d01ef10c",
   "metadata": {},
   "source": [
    "2. Using the `if()` and `else()` functions check whether a value is greater than 10."
   ]
  },
  {
   "cell_type": "code",
   "execution_count": null,
   "id": "b17e7a9b",
   "metadata": {},
   "outputs": [],
   "source": [
    "# assign a value to y to test our function\n",
    "y <- 8\n",
    "y <- 15\n",
    "\n",
    "# write the if else statement\n",
    "if (y > 10) {\n",
    "  print(\"y is greater than 10\")\n",
    "} else {\n",
    "  print(\"y is 10 or less\")\n",
    "}"
   ]
  },
  {
   "cell_type": "markdown",
   "id": "c7db71ce",
   "metadata": {},
   "source": [
    "3. Use the ```ifelse()``` function to answer the same question as 2. above."
   ]
  },
  {
   "cell_type": "code",
   "execution_count": null,
   "id": "912d5d3e",
   "metadata": {},
   "outputs": [],
   "source": [
    "# assign a value to y to test our function\n",
    "y <- 8\n",
    "y <- 15\n",
    "\n",
    "# write the ifelse statement\n",
    "ifelse(y > 10, \"y is greater than 10\", \"y is 10 or less\")"
   ]
  },
  {
   "cell_type": "markdown",
   "id": "853ea6cc",
   "metadata": {},
   "source": [
    "4. Use the `ifelse()` function to create a new variable in the iris data frame called Petal.Size. The new variable should be a character where Petal.Size is 'large' when Petal.Width is above 0.9, and 'small' when Petal.Width is 0.9 or below."
   ]
  },
  {
   "cell_type": "code",
   "execution_count": null,
   "id": "54a4ba2e",
   "metadata": {},
   "outputs": [],
   "source": [
    "# add the new variable to the iris dataset\n",
    "iris$Petal.Size <- ifelse(iris$Petal.Width > 0.9, \"large\", \"small\")\n",
    "\n",
    "# check out output\n",
    "iris$Petal.Size\n",
    "\n",
    "# check it with a boxplot\n",
    "ggplot(iris, aes(Petal.Size, Petal.Width)) +\n",
    "geom_boxplot()\n"
   ]
  },
  {
   "cell_type": "markdown",
   "id": "e7b3ee30",
   "metadata": {},
   "source": [
    "### 3. Functions"
   ]
  },
  {
   "cell_type": "markdown",
   "id": "a4e962a0",
   "metadata": {},
   "source": [
    "1. Write a function to take two numbers as input arguments and output their sum."
   ]
  },
  {
   "cell_type": "code",
   "execution_count": null,
   "id": "4ef56b8b",
   "metadata": {},
   "outputs": [],
   "source": [
    "# define the function\n",
    "add_numbers <- function(a, b) {\n",
    "  return(a + b)\n",
    "}\n",
    "\n",
    "# test the function\n",
    "add_numbers(4,6)\n",
    "add_numbers(10,43)"
   ]
  },
  {
   "cell_type": "markdown",
   "id": "1e496af2",
   "metadata": {},
   "source": [
    "2. Write a function to multiply two numbers together, with a default argument of 10 for the second number."
   ]
  },
  {
   "cell_type": "code",
   "execution_count": null,
   "id": "43334d3c",
   "metadata": {},
   "outputs": [],
   "source": [
    "# define the function\n",
    "multiply <- function(x,y=10){\n",
    "    return(x*y)\n",
    "}\n",
    "\n",
    "# test the function\n",
    "multiply(3)\n",
    "multiply(5,4)"
   ]
  },
  {
   "cell_type": "markdown",
   "id": "d30dea68",
   "metadata": {},
   "source": [
    "3. Write a function to test whether a number is greater than 100."
   ]
  },
  {
   "cell_type": "code",
   "execution_count": null,
   "id": "155ad0d8",
   "metadata": {},
   "outputs": [],
   "source": [
    "# define the function\n",
    "is_100 <- function(x){\n",
    "  if (x > 100){\n",
    "      \"x is greater than 100\"\n",
    "  } else {\"x is less than or equal to 100\"}\n",
    "}\n",
    "\n",
    "# test the function\n",
    "is_100(12)\n",
    "is_100(14343)"
   ]
  },
  {
   "cell_type": "markdown",
   "id": "0789b220",
   "metadata": {},
   "source": [
    "4. Write a function to convert a temperature from celsius to farenheight. NOTE: you can use google to find out what the maths of this conversion is!"
   ]
  },
  {
   "cell_type": "code",
   "execution_count": null,
   "id": "af7baf21",
   "metadata": {},
   "outputs": [],
   "source": [
    "# define the function\n",
    "celsius_to_fahrenheit <- function(celsius) {\n",
    "  return((celsius * 9/5) + 32)\n",
    "}\n",
    "\n",
    "# test the function\n",
    "celsius_to_fahrenheit(25)"
   ]
  },
  {
   "cell_type": "markdown",
   "id": "5c46c08f",
   "metadata": {},
   "source": [
    "### 4. Lists"
   ]
  },
  {
   "cell_type": "markdown",
   "id": "1edc6210",
   "metadata": {},
   "source": [
    "1. Create a list named 'game_list' that contains three named elements:\n",
    "\n",
    "      A vector of character names: \"Zelda\", \"Link\", \"Ganon\"\n",
    "\n",
    "      A vector of numbers from 1 to 10\n",
    "\n",
    "      A logical vector: TRUE, TRUE, FALSE"
   ]
  },
  {
   "cell_type": "code",
   "execution_count": 2,
   "id": "7f7dd14b",
   "metadata": {
    "scrolled": true
   },
   "outputs": [
    {
     "data": {
      "text/html": [
       "<dl>\n",
       "\t<dt>$characters</dt>\n",
       "\t\t<dd><style>\n",
       ".list-inline {list-style: none; margin:0; padding: 0}\n",
       ".list-inline>li {display: inline-block}\n",
       ".list-inline>li:not(:last-child)::after {content: \"\\00b7\"; padding: 0 .5ex}\n",
       "</style>\n",
       "<ol class=list-inline><li>'Zelda'</li><li>'Link'</li><li>'Ganon'</li></ol>\n",
       "</dd>\n",
       "\t<dt>$numbers</dt>\n",
       "\t\t<dd><style>\n",
       ".list-inline {list-style: none; margin:0; padding: 0}\n",
       ".list-inline>li {display: inline-block}\n",
       ".list-inline>li:not(:last-child)::after {content: \"\\00b7\"; padding: 0 .5ex}\n",
       "</style>\n",
       "<ol class=list-inline><li>1</li><li>2</li><li>3</li><li>4</li><li>5</li><li>6</li><li>7</li><li>8</li><li>9</li><li>10</li></ol>\n",
       "</dd>\n",
       "\t<dt>$logic</dt>\n",
       "\t\t<dd><style>\n",
       ".list-inline {list-style: none; margin:0; padding: 0}\n",
       ".list-inline>li {display: inline-block}\n",
       ".list-inline>li:not(:last-child)::after {content: \"\\00b7\"; padding: 0 .5ex}\n",
       "</style>\n",
       "<ol class=list-inline><li>TRUE</li><li>TRUE</li><li>FALSE</li></ol>\n",
       "</dd>\n",
       "</dl>\n"
      ],
      "text/latex": [
       "\\begin{description}\n",
       "\\item[\\$characters] \\begin{enumerate*}\n",
       "\\item 'Zelda'\n",
       "\\item 'Link'\n",
       "\\item 'Ganon'\n",
       "\\end{enumerate*}\n",
       "\n",
       "\\item[\\$numbers] \\begin{enumerate*}\n",
       "\\item 1\n",
       "\\item 2\n",
       "\\item 3\n",
       "\\item 4\n",
       "\\item 5\n",
       "\\item 6\n",
       "\\item 7\n",
       "\\item 8\n",
       "\\item 9\n",
       "\\item 10\n",
       "\\end{enumerate*}\n",
       "\n",
       "\\item[\\$logic] \\begin{enumerate*}\n",
       "\\item TRUE\n",
       "\\item TRUE\n",
       "\\item FALSE\n",
       "\\end{enumerate*}\n",
       "\n",
       "\\end{description}\n"
      ],
      "text/markdown": [
       "$characters\n",
       ":   1. 'Zelda'\n",
       "2. 'Link'\n",
       "3. 'Ganon'\n",
       "\n",
       "\n",
       "\n",
       "$numbers\n",
       ":   1. 1\n",
       "2. 2\n",
       "3. 3\n",
       "4. 4\n",
       "5. 5\n",
       "6. 6\n",
       "7. 7\n",
       "8. 8\n",
       "9. 9\n",
       "10. 10\n",
       "\n",
       "\n",
       "\n",
       "$logic\n",
       ":   1. TRUE\n",
       "2. TRUE\n",
       "3. FALSE\n",
       "\n",
       "\n",
       "\n",
       "\n",
       "\n"
      ],
      "text/plain": [
       "$characters\n",
       "[1] \"Zelda\" \"Link\"  \"Ganon\"\n",
       "\n",
       "$numbers\n",
       " [1]  1  2  3  4  5  6  7  8  9 10\n",
       "\n",
       "$logic\n",
       "[1]  TRUE  TRUE FALSE\n"
      ]
     },
     "metadata": {},
     "output_type": "display_data"
    }
   ],
   "source": [
    "# create the list\n",
    "game_list <- list(characters = c(\"Zelda\", \"Link\", \"Ganon\"),\n",
    "                  numbers = 1:10,\n",
    "                  logic = c(TRUE, TRUE, FALSE))\n",
    "# check the list\n",
    "game_list"
   ]
  },
  {
   "cell_type": "markdown",
   "id": "1a0cc8b5",
   "metadata": {},
   "source": [
    "2. Using square brackets, access the second element in the list game_list, and store it in a variable named second_element."
   ]
  },
  {
   "cell_type": "code",
   "execution_count": null,
   "id": "8eaad2d0",
   "metadata": {},
   "outputs": [],
   "source": [
    "# access the second element with square brackets\n",
    "second_element <- game_list[[2]]\n",
    "\n",
    "# check our new variable\n",
    "second_element"
   ]
  },
  {
   "cell_type": "markdown",
   "id": "b7749011",
   "metadata": {},
   "source": [
    "3. From the game_list, extract the second character in the characters vector."
   ]
  },
  {
   "cell_type": "code",
   "execution_count": null,
   "id": "74dd94f8",
   "metadata": {},
   "outputs": [],
   "source": [
    "# using the list names\n",
    "second_character <- game_list$characters[2]\n",
    "second_character\n",
    "\n",
    "# using square brackets\n",
    "second_character <- game_list[[1]][2]\n",
    "second_character"
   ]
  },
  {
   "cell_type": "markdown",
   "id": "979ec49b",
   "metadata": {},
   "source": [
    "4. Check the class of the numbers element in the game_list."
   ]
  },
  {
   "cell_type": "code",
   "execution_count": null,
   "id": "0eb2bc3f",
   "metadata": {},
   "outputs": [],
   "source": [
    "# check the class\n",
    "class(game_list$numbers)\n",
    "class(game_list[[2]])"
   ]
  },
  {
   "cell_type": "markdown",
   "id": "40eda409",
   "metadata": {},
   "source": [
    "5. Modify the game_list to include a new element named scores, which is a vector of the numbers 50, 60, and 70."
   ]
  },
  {
   "cell_type": "code",
   "execution_count": null,
   "id": "b28c1b4d",
   "metadata": {},
   "outputs": [],
   "source": [
    "# add the new element to the list\n",
    "game_list$scores <- c(50, 60, 70)\n",
    "\n",
    "# check the list\n",
    "game_list"
   ]
  },
  {
   "cell_type": "markdown",
   "id": "755932b7",
   "metadata": {},
   "source": [
    "### 5. Apply functions\n",
    "\n",
    "Run the code provided to you in the box below to load the Orange data set into your environment. We will use this dataset for the questions below."
   ]
  },
  {
   "cell_type": "code",
   "execution_count": 3,
   "id": "bade933f",
   "metadata": {},
   "outputs": [],
   "source": [
    "data(Orange)\n",
    "Orange <- lapply(Orange, as.numeric)\n",
    "Orange <- as.data.frame(Orange)"
   ]
  },
  {
   "cell_type": "markdown",
   "id": "2c49a48d",
   "metadata": {},
   "source": [
    "1. Using the `apply()` function, calculate the max of each column in the Orange dataset, excluding NA values."
   ]
  },
  {
   "cell_type": "code",
   "execution_count": null,
   "id": "1928dc89",
   "metadata": {},
   "outputs": [],
   "source": [
    "# Use apply to calculate max of each column\n",
    "apply(Orange, 2, max, na.rm = TRUE) "
   ]
  },
  {
   "cell_type": "markdown",
   "id": "ef8d5f37",
   "metadata": {},
   "source": [
    "2. Write an `apply()` function to calculate the sum of each row in the Orange dataset, excluding NA values."
   ]
  },
  {
   "cell_type": "code",
   "execution_count": null,
   "id": "6288779a",
   "metadata": {},
   "outputs": [],
   "source": [
    "# Use apply to calculate sum of each row\n",
    "apply(Orange, 1, sum, na.rm = T)"
   ]
  },
  {
   "cell_type": "markdown",
   "id": "2f27cde8",
   "metadata": {},
   "source": [
    "3. Use `apply()` to square each value in the Orange dataset."
   ]
  },
  {
   "cell_type": "code",
   "execution_count": null,
   "id": "8d01db51",
   "metadata": {},
   "outputs": [],
   "source": [
    "# Use apply to square every value in the dataset\n",
    "apply(Orange, 2, function(x) { x^2 })"
   ]
  },
  {
   "cell_type": "markdown",
   "id": "cbfd1089",
   "metadata": {},
   "source": [
    "4. Write a custom function that takes a vector and returns the minimum and maximum values. Then use `apply()` to apply this function to each column in the Orange dataset."
   ]
  },
  {
   "cell_type": "code",
   "execution_count": null,
   "id": "dec928b5",
   "metadata": {},
   "outputs": [],
   "source": [
    "# Define a function to return both minimum and maximum\n",
    "min_max <- function(x) {\n",
    "  return(c(min = min(x, na.rm = TRUE), max = max(x, na.rm = TRUE)))\n",
    "}\n",
    "\n",
    "# Use apply to apply the min_max function to each column\n",
    "apply(Orange, 2, min_max)"
   ]
  },
  {
   "cell_type": "markdown",
   "id": "85b52bb9",
   "metadata": {},
   "source": [
    "5. Use `lapply()` to calculate the length of each element in the list you created earlier called game_list."
   ]
  },
  {
   "cell_type": "code",
   "execution_count": null,
   "id": "4eb2822d",
   "metadata": {},
   "outputs": [],
   "source": [
    "# Use lapply to get the length of each element in the list\n",
    "lapply(game_list, length)"
   ]
  },
  {
   "cell_type": "markdown",
   "id": "bb4f366f",
   "metadata": {},
   "source": [
    "6. Using `lapply()`, calculate the mean of each column in the Orange dataset, excluding NA values."
   ]
  },
  {
   "cell_type": "code",
   "execution_count": null,
   "id": "02186a46",
   "metadata": {},
   "outputs": [],
   "source": [
    "# Use lapply to calculate the mean of each column\n",
    "lapply(Orange, mean, na.rm = TRUE)"
   ]
  },
  {
   "cell_type": "markdown",
   "id": "3751c034",
   "metadata": {},
   "source": [
    "7. Use `sapply()` to calculate the length of each element in the list game_list. Make sure the result is a vector, not a list."
   ]
  },
  {
   "cell_type": "code",
   "execution_count": null,
   "id": "076de6e3",
   "metadata": {},
   "outputs": [],
   "source": [
    "# Use sapply to get the length of each element in the list as a vector\n",
    "sapply(game_list, length)"
   ]
  },
  {
   "cell_type": "markdown",
   "id": "d78ef890",
   "metadata": {},
   "source": [
    "8. Now repeat question 7 above, but return the result as a list."
   ]
  },
  {
   "cell_type": "code",
   "execution_count": null,
   "id": "7c7e2782",
   "metadata": {},
   "outputs": [],
   "source": [
    "# Use sapply to get the length of each element, don't simplify the output\n",
    "sapply(game_list, length, simplify = F)"
   ]
  },
  {
   "cell_type": "markdown",
   "id": "7c7a273c",
   "metadata": {},
   "source": [
    "9. Use `apply()` and an anonymous function (defined only inside the apply function) to count the number of missing values (NA) in each column of the Orange dataset."
   ]
  },
  {
   "cell_type": "code",
   "execution_count": null,
   "id": "6d66a435",
   "metadata": {},
   "outputs": [],
   "source": [
    "# Put an anonymous function inside apply\n",
    "apply(Orange, 2, function(x){\n",
    "    sum(is.na(x))\n",
    "})"
   ]
  }
 ],
 "metadata": {
  "kernelspec": {
   "display_name": "R",
   "language": "R",
   "name": "ir"
  },
  "language_info": {
   "codemirror_mode": "r",
   "file_extension": ".r",
   "mimetype": "text/x-r-source",
   "name": "R",
   "pygments_lexer": "r",
   "version": "4.2.3"
  }
 },
 "nbformat": 4,
 "nbformat_minor": 5
}
