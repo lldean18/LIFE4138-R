{
 "cells": [
  {
   "cell_type": "markdown",
   "id": "6b61bfa1",
   "metadata": {},
   "source": [
    "## Introduction\n",
    "\n",
    "In this notebook, you’ll find a series of practical R problems for you to attempt as homework. Have a go before the next session and we will go through the answers as a group during the next class. I will release the answers after the next session.\n",
    "\n",
    "You should write your answers in the code blocks beneath the questions below. You will need to run the code blocks that are provided for you as you go to load / create the objects you will need into your environment.\n",
    "\n",
    "*** NOTE ***: Before running this notebook go to your terminal, activate your jupyter conda environment and run the following line of code to install the most recent version of R and tidyverse into your conda environment:\n",
    "\n",
    "conda install r r-tidyverse -c conda-forge\n",
    "\n",
    "follow the prompts in the terminal to complete the install, then close and reopen this notebook"
   ]
  },
  {
   "cell_type": "markdown",
   "id": "2f013cc5",
   "metadata": {},
   "source": [
    "## Homework for session 2\n",
    "\n",
    "Begin by running the code block below to load what you will need into your environment"
   ]
  },
  {
   "cell_type": "code",
   "execution_count": null,
   "id": "5eea4b31",
   "metadata": {},
   "outputs": [],
   "source": [
    "library(tidyverse)\n",
    "data(storms)\n",
    "# you should see an output about attaching packages and a few conflicts"
   ]
  },
  {
   "cell_type": "markdown",
   "id": "0d3b29e2",
   "metadata": {},
   "source": [
    "### 1. Pipes"
   ]
  },
  {
   "cell_type": "markdown",
   "id": "3d20f7f5",
   "metadata": {},
   "source": [
    "1. Determine the dimensions of the storms dataset with and without using a pipe"
   ]
  },
  {
   "cell_type": "code",
   "execution_count": null,
   "id": "ba69e9ad",
   "metadata": {},
   "outputs": [],
   "source": []
  },
  {
   "cell_type": "markdown",
   "id": "d404073a",
   "metadata": {},
   "source": [
    "2. Using the storms dataset, determine the mean of the wind variable both with and without using a pipe"
   ]
  },
  {
   "cell_type": "code",
   "execution_count": null,
   "id": "bb3d1b22",
   "metadata": {},
   "outputs": [],
   "source": []
  },
  {
   "cell_type": "markdown",
   "id": "0a766add",
   "metadata": {},
   "source": [
    "3. Using the storms dataset, determine the length of the status variable both with and without using a pipe"
   ]
  },
  {
   "cell_type": "code",
   "execution_count": null,
   "id": "85d5e7a6",
   "metadata": {},
   "outputs": [],
   "source": []
  },
  {
   "cell_type": "markdown",
   "id": "0f0e96fb",
   "metadata": {},
   "source": [
    "### 2. Subsetting data"
   ]
  },
  {
   "cell_type": "markdown",
   "id": "97853d7f",
   "metadata": {},
   "source": [
    "1. Use the ```select()``` function to select the pressure variable from the storms dataset"
   ]
  },
  {
   "cell_type": "code",
   "execution_count": null,
   "id": "a63c1c57",
   "metadata": {},
   "outputs": [],
   "source": []
  },
  {
   "cell_type": "markdown",
   "id": "d01ef10c",
   "metadata": {},
   "source": [
    "2. Using the ```select()``` function and a pipe, select the wind and pressure variables from the storms dataset"
   ]
  },
  {
   "cell_type": "code",
   "execution_count": null,
   "id": "b17e7a9b",
   "metadata": {},
   "outputs": [],
   "source": []
  },
  {
   "cell_type": "markdown",
   "id": "c7db71ce",
   "metadata": {},
   "source": [
    "3. Using the ```select()``` function and a pipe, select all the variables in the storms dataset that start with the letter L"
   ]
  },
  {
   "cell_type": "code",
   "execution_count": null,
   "id": "912d5d3e",
   "metadata": {},
   "outputs": [],
   "source": []
  },
  {
   "cell_type": "markdown",
   "id": "853ea6cc",
   "metadata": {},
   "source": [
    "4. Use the ```filter()``` function to retain only the entries with the status \"tropical storm\""
   ]
  },
  {
   "cell_type": "code",
   "execution_count": null,
   "id": "54a4ba2e",
   "metadata": {},
   "outputs": [],
   "source": []
  },
  {
   "cell_type": "markdown",
   "id": "6cf92af5",
   "metadata": {},
   "source": [
    "5. Using the ```filter()``` function, retain only the entries with the status \"hurricane\" and the category \"3\""
   ]
  },
  {
   "cell_type": "code",
   "execution_count": null,
   "id": "87c87098",
   "metadata": {},
   "outputs": [],
   "source": []
  },
  {
   "cell_type": "markdown",
   "id": "82652893",
   "metadata": {},
   "source": [
    "6. Using the ```select()``` and ```filter()``` functions and a pipe, retain only the information for name, status, pressure and wind for entries with the status \"tropical storm\", the pressure \"1000\" and the wind \"50\""
   ]
  },
  {
   "cell_type": "code",
   "execution_count": null,
   "id": "38cf27b3",
   "metadata": {},
   "outputs": [],
   "source": []
  },
  {
   "cell_type": "markdown",
   "id": "e7b3ee30",
   "metadata": {},
   "source": [
    "### 3. Summarising data"
   ]
  },
  {
   "cell_type": "markdown",
   "id": "a4e962a0",
   "metadata": {},
   "source": [
    "1. Using the ```group_by()``` and ```tally()``` functions, count the number of storms for each status. Which was the most common storm type and which was the least common?"
   ]
  },
  {
   "cell_type": "code",
   "execution_count": null,
   "id": "4ef56b8b",
   "metadata": {},
   "outputs": [],
   "source": []
  },
  {
   "cell_type": "markdown",
   "id": "d30dea68",
   "metadata": {},
   "source": [
    "2. Summarise the mean pressure for each different status of storm. Hint: you'll need the ```group_by()```, ```summarise()``` and ```mean()``` functions."
   ]
  },
  {
   "cell_type": "code",
   "execution_count": null,
   "id": "155ad0d8",
   "metadata": {},
   "outputs": [],
   "source": []
  },
  {
   "cell_type": "markdown",
   "id": "0789b220",
   "metadata": {},
   "source": [
    "3. Summarise the mean wind speed for each named storm"
   ]
  },
  {
   "cell_type": "code",
   "execution_count": null,
   "id": "af7baf21",
   "metadata": {},
   "outputs": [],
   "source": []
  },
  {
   "cell_type": "markdown",
   "id": "1e496af2",
   "metadata": {},
   "source": [
    "4. Summarise the mean pressure, wind and month for each status of storm. Hint: use the `group_by()` and ```summarise_at()``` functions."
   ]
  },
  {
   "cell_type": "code",
   "execution_count": null,
   "id": "43334d3c",
   "metadata": {},
   "outputs": [],
   "source": []
  },
  {
   "cell_type": "markdown",
   "id": "5c46c08f",
   "metadata": {},
   "source": [
    "### 4. Reshaping data\n",
    "\n",
    "first load the airquality data set into your environment by running the cell below:"
   ]
  },
  {
   "cell_type": "code",
   "execution_count": null,
   "id": "e86106be",
   "metadata": {},
   "outputs": [],
   "source": [
    "data(airquality)\n",
    "head(airquality)"
   ]
  },
  {
   "cell_type": "markdown",
   "id": "1edc6210",
   "metadata": {},
   "source": [
    "1. Convert the first 4 columns of the airquality data set from wide to long format using the `pivot_longer()` function and assign the long dataset to an object named airquality_long. Hint: use the `head()` function to check the object you have created is as you expect it to be"
   ]
  },
  {
   "cell_type": "code",
   "execution_count": null,
   "id": "7f7dd14b",
   "metadata": {},
   "outputs": [],
   "source": []
  },
  {
   "cell_type": "markdown",
   "id": "1a0cc8b5",
   "metadata": {},
   "source": [
    "2. Convert your airquality_long dataset back to wide format using the `pivot_wider()` function and save it as a new object named airquality_wide. Hint: use the `head()` function to check the object you have created is as you expect it to be"
   ]
  },
  {
   "cell_type": "code",
   "execution_count": null,
   "id": "8eaad2d0",
   "metadata": {},
   "outputs": [],
   "source": []
  },
  {
   "cell_type": "markdown",
   "id": "755932b7",
   "metadata": {},
   "source": [
    "### 5. Plotting with ggplot2"
   ]
  },
  {
   "cell_type": "markdown",
   "id": "c7cfd3df",
   "metadata": {},
   "source": [
    "#### Scatterplots"
   ]
  },
  {
   "cell_type": "markdown",
   "id": "2c49a48d",
   "metadata": {},
   "source": [
    "1. Using the `ggplot()` function and your airquality_wide dataset make a scatter plot of wind against temperature"
   ]
  },
  {
   "cell_type": "code",
   "execution_count": null,
   "id": "1928dc89",
   "metadata": {},
   "outputs": [],
   "source": []
  },
  {
   "cell_type": "markdown",
   "id": "ef8d5f37",
   "metadata": {},
   "source": [
    "2. Adding to the code from the last question, increase the size of the points on your scatter plot"
   ]
  },
  {
   "cell_type": "code",
   "execution_count": null,
   "id": "6288779a",
   "metadata": {},
   "outputs": [],
   "source": []
  },
  {
   "cell_type": "markdown",
   "id": "2f27cde8",
   "metadata": {},
   "source": [
    "3. Adding to the code from the last question, change the shape and colour of the points in your scatter plot (Hint: some shapes will require you to use fill instead of colour to change the colour)"
   ]
  },
  {
   "cell_type": "code",
   "execution_count": null,
   "id": "8d01db51",
   "metadata": {},
   "outputs": [],
   "source": []
  },
  {
   "cell_type": "markdown",
   "id": "cbfd1089",
   "metadata": {},
   "source": [
    "4. Adding to the code from the last question, add axis labels to your scatter plot"
   ]
  },
  {
   "cell_type": "code",
   "execution_count": null,
   "id": "dec928b5",
   "metadata": {},
   "outputs": [],
   "source": []
  },
  {
   "cell_type": "markdown",
   "id": "85b52bb9",
   "metadata": {},
   "source": [
    "5. Adding to the code from the last question, change the theme of your scatter plot"
   ]
  },
  {
   "cell_type": "code",
   "execution_count": null,
   "id": "4eb2822d",
   "metadata": {},
   "outputs": [],
   "source": []
  },
  {
   "cell_type": "markdown",
   "id": "74a0da1b",
   "metadata": {},
   "source": [
    "#### Histograms"
   ]
  },
  {
   "cell_type": "markdown",
   "id": "bb4f366f",
   "metadata": {},
   "source": [
    "1. Using `ggplot()` Make a histogram of the \"Wind\" variable from your airquality_wide dataset. Play around with the bin width until you are happy with the plot."
   ]
  },
  {
   "cell_type": "code",
   "execution_count": null,
   "id": "02186a46",
   "metadata": {},
   "outputs": [],
   "source": []
  },
  {
   "cell_type": "markdown",
   "id": "3751c034",
   "metadata": {},
   "source": [
    "2. Using `ggplot()` make a histogram of the \"value\" variable from your airquality_long data set (NOTE: you should expect to see warnings about the binwidth and 44 rows being removed)"
   ]
  },
  {
   "cell_type": "code",
   "execution_count": null,
   "id": "076de6e3",
   "metadata": {},
   "outputs": [],
   "source": []
  },
  {
   "cell_type": "markdown",
   "id": "d78ef890",
   "metadata": {},
   "source": [
    "3. Using `facet_wrap()` add to the previous plot to show different plots for different levels of the \"measure\" variable. (NOTE: you should expect to see warnings about the binwidth and 44 rows being removed)"
   ]
  },
  {
   "cell_type": "code",
   "execution_count": null,
   "id": "7c7e2782",
   "metadata": {},
   "outputs": [],
   "source": []
  },
  {
   "cell_type": "markdown",
   "id": "0a45a580",
   "metadata": {},
   "source": [
    "#### Boxplots"
   ]
  },
  {
   "cell_type": "markdown",
   "id": "7c7a273c",
   "metadata": {},
   "source": [
    "1. Using `ggplot()` and your airquality_wide dataset, make a boxplot to show the temperature for each month. (HINT: You will have to coerce the month variable to be a factor or a character in order to generate this plot properly. See if you can figure out how to do that). Which month had the lowest temperature?"
   ]
  },
  {
   "cell_type": "code",
   "execution_count": null,
   "id": "6d66a435",
   "metadata": {},
   "outputs": [],
   "source": []
  },
  {
   "cell_type": "markdown",
   "id": "5532999d",
   "metadata": {},
   "source": [
    "2. Modify the plot above to add axis labels and change the theme"
   ]
  },
  {
   "cell_type": "code",
   "execution_count": null,
   "id": "13ed69fb",
   "metadata": {},
   "outputs": [],
   "source": []
  },
  {
   "cell_type": "markdown",
   "id": "6c9f5710",
   "metadata": {},
   "source": [
    "3. Modify the above plot to change the colour of the boxes"
   ]
  },
  {
   "cell_type": "code",
   "execution_count": null,
   "id": "81809dc3",
   "metadata": {},
   "outputs": [],
   "source": []
  },
  {
   "cell_type": "markdown",
   "id": "32f56a5e",
   "metadata": {},
   "source": [
    "4. Modify the above plot to change the 'fill' colour the boxes to be based on the \"Month\" variable (HINT: \"Month\" will also need to be coerced to a factor or character to be properly interpreted by ggplot here)"
   ]
  },
  {
   "cell_type": "code",
   "execution_count": null,
   "id": "7634f6eb",
   "metadata": {},
   "outputs": [],
   "source": []
  }
 ],
 "metadata": {
  "kernelspec": {
   "display_name": "R",
   "language": "R",
   "name": "ir"
  },
  "language_info": {
   "codemirror_mode": "r",
   "file_extension": ".r",
   "mimetype": "text/x-r-source",
   "name": "R",
   "pygments_lexer": "r",
   "version": "4.2.3"
  }
 },
 "nbformat": 4,
 "nbformat_minor": 5
}
